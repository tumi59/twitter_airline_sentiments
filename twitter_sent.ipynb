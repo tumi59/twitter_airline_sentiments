{
 "cells": [
  {
   "cell_type": "code",
   "execution_count": 14,
   "metadata": {},
   "outputs": [],
   "source": [
    "import pandas as pd\n",
    "import numpy as np\n",
    "import sqlite3\n",
    "import matplotlib.pyplot as plt\n",
    "import seaborn as sns\n",
    "from nltk.tokenize import RegexpTokenizer\n",
    "from sklearn.feature_extraction.text import TfidfVectorizer\n",
    "from sklearn.decomposition import LatentDirichletAllocation"
   ]
  },
  {
   "cell_type": "code",
   "execution_count": 15,
   "metadata": {},
   "outputs": [],
   "source": [
    "# creating a conenction to the database\n",
    "conn = sqlite3.connect('reddit-posts.db')\n",
    "cursor = conn.cursor()"
   ]
  },
  {
   "cell_type": "code",
   "execution_count": 16,
   "metadata": {},
   "outputs": [
    {
     "name": "stdout",
     "output_type": "stream",
     "text": [
      "posts\n"
     ]
    }
   ],
   "source": [
    "\n",
    "# SQL query to get a list of all tables in the database\n",
    "query = \"SELECT name FROM sqlite_master WHERE type='table';\"\n",
    "\n",
    "# Execute the query\n",
    "cursor.execute(query)\n",
    "\n",
    "# Fetch all the results\n",
    "tables = cursor.fetchall()\n",
    "\n",
    "# Print the tables\n",
    "for table in tables:\n",
    "    print(table[0])\n"
   ]
  },
  {
   "cell_type": "code",
   "execution_count": 17,
   "metadata": {},
   "outputs": [
    {
     "name": "stdout",
     "output_type": "stream",
     "text": [
      "(250, 9)\n"
     ]
    },
    {
     "data": {
      "text/html": [
       "<div>\n",
       "<style scoped>\n",
       "    .dataframe tbody tr th:only-of-type {\n",
       "        vertical-align: middle;\n",
       "    }\n",
       "\n",
       "    .dataframe tbody tr th {\n",
       "        vertical-align: top;\n",
       "    }\n",
       "\n",
       "    .dataframe thead th {\n",
       "        text-align: right;\n",
       "    }\n",
       "</style>\n",
       "<table border=\"1\" class=\"dataframe\">\n",
       "  <thead>\n",
       "    <tr style=\"text-align: right;\">\n",
       "      <th></th>\n",
       "      <th>id</th>\n",
       "      <th>title</th>\n",
       "      <th>body</th>\n",
       "      <th>score</th>\n",
       "      <th>author</th>\n",
       "      <th>data</th>\n",
       "      <th>url</th>\n",
       "      <th>sentiment</th>\n",
       "      <th>airline</th>\n",
       "    </tr>\n",
       "  </thead>\n",
       "  <tbody>\n",
       "    <tr>\n",
       "      <th>0</th>\n",
       "      <td>133bh0h</td>\n",
       "      <td>Frontier Baggage Scam</td>\n",
       "      <td>Literally saw something I have never seen in a...</td>\n",
       "      <td>173</td>\n",
       "      <td>kniedrist</td>\n",
       "      <td>1.682815e+09</td>\n",
       "      <td>None</td>\n",
       "      <td>negative</td>\n",
       "      <td>Frontier</td>\n",
       "    </tr>\n",
       "    <tr>\n",
       "      <th>1</th>\n",
       "      <td>10bx7c4</td>\n",
       "      <td>Small Claims Court is Great for Air Travel Dis...</td>\n",
       "      <td>Hi everyone, recently I flew Turkish to Ethiop...</td>\n",
       "      <td>140</td>\n",
       "      <td>[deleted]</td>\n",
       "      <td>1.673725e+09</td>\n",
       "      <td>None</td>\n",
       "      <td>negative</td>\n",
       "      <td>Air Travel</td>\n",
       "    </tr>\n",
       "    <tr>\n",
       "      <th>2</th>\n",
       "      <td>f0qq9o</td>\n",
       "      <td>Just Had an Older Woman Try to Take My Seat</td>\n",
       "      <td>In India on Airline Indigo. I see a middle-age...</td>\n",
       "      <td>117</td>\n",
       "      <td>ReallyWeirdNormalGuy</td>\n",
       "      <td>1.581163e+09</td>\n",
       "      <td>None</td>\n",
       "      <td>negative</td>\n",
       "      <td>IndiGo</td>\n",
       "    </tr>\n",
       "    <tr>\n",
       "      <th>3</th>\n",
       "      <td>12hj4k4</td>\n",
       "      <td>Has anyone experienced this?</td>\n",
       "      <td>TLDR: Norse Atlantic Airways told me my person...</td>\n",
       "      <td>63</td>\n",
       "      <td>Previous_Remove1991</td>\n",
       "      <td>1.681134e+09</td>\n",
       "      <td>https://v.redd.it/x5r5o1yfq3ta1</td>\n",
       "      <td>negative</td>\n",
       "      <td>Atlantic Airways</td>\n",
       "    </tr>\n",
       "    <tr>\n",
       "      <th>4</th>\n",
       "      <td>f2amsb</td>\n",
       "      <td>A couple of tips/tools for finding cheap Busin...</td>\n",
       "      <td>Every day I search premium flight deals for ot...</td>\n",
       "      <td>61</td>\n",
       "      <td>Flawingo</td>\n",
       "      <td>1.581438e+09</td>\n",
       "      <td>None</td>\n",
       "      <td>positive</td>\n",
       "      <td>LOT</td>\n",
       "    </tr>\n",
       "  </tbody>\n",
       "</table>\n",
       "</div>"
      ],
      "text/plain": [
       "        id                                              title  \\\n",
       "0  133bh0h                              Frontier Baggage Scam   \n",
       "1  10bx7c4  Small Claims Court is Great for Air Travel Dis...   \n",
       "2   f0qq9o        Just Had an Older Woman Try to Take My Seat   \n",
       "3  12hj4k4                       Has anyone experienced this?   \n",
       "4   f2amsb  A couple of tips/tools for finding cheap Busin...   \n",
       "\n",
       "                                                body  score  \\\n",
       "0  Literally saw something I have never seen in a...    173   \n",
       "1  Hi everyone, recently I flew Turkish to Ethiop...    140   \n",
       "2  In India on Airline Indigo. I see a middle-age...    117   \n",
       "3  TLDR: Norse Atlantic Airways told me my person...     63   \n",
       "4  Every day I search premium flight deals for ot...     61   \n",
       "\n",
       "                 author          data                              url  \\\n",
       "0             kniedrist  1.682815e+09                             None   \n",
       "1             [deleted]  1.673725e+09                             None   \n",
       "2  ReallyWeirdNormalGuy  1.581163e+09                             None   \n",
       "3   Previous_Remove1991  1.681134e+09  https://v.redd.it/x5r5o1yfq3ta1   \n",
       "4              Flawingo  1.581438e+09                             None   \n",
       "\n",
       "  sentiment           airline  \n",
       "0  negative          Frontier  \n",
       "1  negative        Air Travel  \n",
       "2  negative            IndiGo  \n",
       "3  negative  Atlantic Airways  \n",
       "4  positive               LOT  "
      ]
     },
     "execution_count": 17,
     "metadata": {},
     "output_type": "execute_result"
    }
   ],
   "source": [
    "#converting data into a pandas dataframe\n",
    "airlines = pd.read_sql_query('SELECT * FROM posts', conn)\n",
    "print(airlines.shape)\n",
    "airlines.head()"
   ]
  },
  {
   "cell_type": "code",
   "execution_count": 18,
   "metadata": {},
   "outputs": [
    {
     "data": {
      "text/plain": [
       "negative    162\n",
       "neutral      76\n",
       "positive     12\n",
       "Name: sentiment, dtype: int64"
      ]
     },
     "execution_count": 18,
     "metadata": {},
     "output_type": "execute_result"
    }
   ],
   "source": [
    "#totalling the sentiment analysis results\n",
    "sent_summary = airlines['sentiment'].value_counts()\n",
    "sent_summary"
   ]
  },
  {
   "cell_type": "code",
   "execution_count": 19,
   "metadata": {},
   "outputs": [
    {
     "data": {
      "image/png": "[encoded data removed]",
      "text/plain": [
       "<Figure size 640x480 with 1 Axes>"
      ]
     },
     "metadata": {},
     "output_type": "display_data"
    }
   ],
   "source": [
    "#compiling the results into a pie chart\n",
    "colors = ['slategray','brown', 'green']\n",
    "ax = sent_summary.plot(kind='pie', y='score',autopct='%1.0f%%', \n",
    "                       colors = colors, ylabel='', labeldistance=None)\n",
    "ax.set_title('Sentiment Analysis Result')\n",
    "ax.legend(bbox_to_anchor=(1, 1.02), loc='upper left')\n",
    "plt.show()"
   ]
  },
  {
   "cell_type": "code",
   "execution_count": 20,
   "metadata": {},
   "outputs": [
    {
     "data": {
      "image/png": "[encoded data removed]",
      "text/plain": [
       "<Figure size 640x480 with 1 Axes>"
      ]
     },
     "metadata": {},
     "output_type": "display_data"
    }
   ],
   "source": [
    "import matplotlib.pyplot as plt\n",
    "\n",
    "# Compiling the results into a pie chart\n",
    "colors = ['#9b7653', '#800000', '#228B22']  # Custom colors for the pie slices\n",
    "\n",
    "# Create the figure and axes objects\n",
    "fig, ax = plt.subplots()\n",
    "\n",
    "# Plot the pie chart\n",
    "sent_summary.plot(kind='pie', y='score', autopct='%1.0f%%',\n",
    "                  colors=colors, ylabel='', labeldistance=None,\n",
    "                  ax=ax, wedgeprops={'linewidth': 1, 'edgecolor': 'white'})\n",
    "\n",
    "# Set the title and legend\n",
    "ax.set_title('Sentiment Analysis Result')\n",
    "ax.legend(bbox_to_anchor=(1, 1.02), loc='upper left')\n",
    "\n",
    "# Add a white circle at the center to create a donut-like appearance\n",
    "center_circle = plt.Circle((0, 0), 0.7, fc='white')\n",
    "ax.add_patch(center_circle)\n",
    "\n",
    "# Set the aspect ratio to be equal to make the pie chart circular\n",
    "ax.axis('equal')\n",
    "\n",
    "# Remove unnecessary spines and ticks\n",
    "ax.spines['top'].set_visible(False)\n",
    "ax.spines['right'].set_visible(False)\n",
    "ax.spines['left'].set_visible(False)\n",
    "ax.spines['bottom'].set_visible(False)\n",
    "ax.tick_params(axis='both', length=0)\n",
    "\n",
    "plt.show()\n"
   ]
  },
  {
   "cell_type": "code",
   "execution_count": 21,
   "metadata": {},
   "outputs": [
    {
     "data": {
      "text/plain": [
       "LOT                  21\n",
       "Frontier             17\n",
       "easyJet              15\n",
       "American Airlines    14\n",
       "Air Canada           13\n",
       "                     ..\n",
       "Asiana Airlines       1\n",
       "EVA Air               1\n",
       "Lift                  1\n",
       "Air Greenland         1\n",
       "Austrian Airlines     1\n",
       "Name: airline, Length: 71, dtype: int64"
      ]
     },
     "execution_count": 21,
     "metadata": {},
     "output_type": "execute_result"
    }
   ],
   "source": [
    "airlines['airline'].value_counts()"
   ]
  },
  {
   "attachments": {},
   "cell_type": "markdown",
   "metadata": {},
   "source": [
    "## Performing LDA"
   ]
  },
  {
   "cell_type": "code",
   "execution_count": 22,
   "metadata": {},
   "outputs": [],
   "source": [
    "\n",
    "# Vectorize document using TF-IDF\n",
    "tfidf = TfidfVectorizer(lowercase=True,\n",
    "                        stop_words='english',\n",
    "                        ngram_range = (1,2))\n",
    "\n",
    "#                        tokenizer = tokenizer.tokenize)\n",
    "\n",
    "# Changing series to list and replacing NaN with empty strings\n",
    "air_list = airlines['body'].fillna('').to_list()\n",
    "\n",
    "# Fit and Transform the documents\n",
    "train_data = tfidf.fit_transform(air_list) "
   ]
  },
  {
   "cell_type": "code",
   "execution_count": 23,
   "metadata": {},
   "outputs": [],
   "source": [
    "# Define the number of topics or components\n",
    "num_components=6\n",
    "\n",
    "# Create LDA object\n",
    "model=LatentDirichletAllocation(n_components=num_components)\n",
    "\n",
    "# Fit and Transform SVD model on data\n",
    "lda_matrix = model.fit_transform(train_data)\n",
    "\n",
    "# Get Components \n",
    "lda_components=model.components_"
   ]
  },
  {
   "cell_type": "code",
   "execution_count": 24,
   "metadata": {},
   "outputs": [
    {
     "name": "stdout",
     "output_type": "stream",
     "text": [
      "Topic 0:  ['flight', 'airlines', 'just', 'plane', 'pay', 'gt', 'hours']\n",
      "Topic 1:  ['flight', 'hours', 'refund', 'airport', 'said', 'just', 'flights']\n",
      "Topic 2:  ['flight', 'travel', 'bag', 'seat', 'amp', 'gt', 've']\n",
      "Topic 3:  ['flight', 'just', 'airline', 'gt', 'flights', 'travel', 'told']\n",
      "Topic 4:  ['flight', 'told', 'gate', 'flying', 'time', 'going', 'jal']\n",
      "Topic 5:  ['flight', 'flights', 'refund', 'hours', 'just', 'cancelled', 'credit']\n"
     ]
    }
   ],
   "source": [
    "# Print the topics with their terms\n",
    "feature_names = tfidf.get_feature_names_out()\n",
    "\n",
    "for index, component in enumerate(lda_components):\n",
    "    zipped = zip(feature_names, component)\n",
    "    top_terms_key = sorted(zipped, key=lambda t: t[1], reverse=True)[:7]\n",
    "    top_terms_list = [term for term, _ in top_terms_key] \n",
    "    print(\"Topic \" + str(index) + \": \", top_terms_list)"
   ]
  },
  {
   "cell_type": "code",
   "execution_count": 25,
   "metadata": {},
   "outputs": [],
   "source": [
    "conn.close()"
   ]
  }
 ],
 "metadata": {
  "kernelspec": {
   "display_name": "Python 3",
   "language": "python",
   "name": "python3"
  },
  "language_info": {
   "codemirror_mode": {
    "name": "ipython",
    "version": 3
   },
   "file_extension": ".py",
   "mimetype": "text/x-python",
   "name": "python",
   "nbconvert_exporter": "python",
   "pygments_lexer": "ipython3",
   "version": "3.11.2"
  },
  "orig_nbformat": 4
 },
 "nbformat": 4,
 "nbformat_minor": 2
}
