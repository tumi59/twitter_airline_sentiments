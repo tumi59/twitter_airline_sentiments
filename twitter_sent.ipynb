{
 "cells": [
  {
   "cell_type": "code",
   "execution_count": 25,
   "metadata": {},
   "outputs": [],
   "source": [
    "import pandas as pd\n",
    "import numpy as np\n",
    "import matplotlib.pyplot as plt\n",
    "import seaborn as sns\n",
    "import os\n",
    "from nltk.tokenize import RegexpTokenizer\n",
    "from sklearn.feature_extraction.text import TfidfVectorizer\n",
    "from sklearn.decomposition import LatentDirichletAllocation"
   ]
  },
  {
   "cell_type": "code",
   "execution_count": 26,
   "metadata": {},
   "outputs": [
    {
     "data": {
      "text/plain": [
       "(100, 5)"
      ]
     },
     "execution_count": 26,
     "metadata": {},
     "output_type": "execute_result"
    }
   ],
   "source": [
    "# Read in the data & check the size\n",
    "airlines = pd.read_csv('output.csv')\n",
    "airlines.shape"
   ]
  },
  {
   "cell_type": "code",
   "execution_count": 27,
   "metadata": {},
   "outputs": [
    {
     "data": {
      "text/html": [
       "<div>\n",
       "<style scoped>\n",
       "    .dataframe tbody tr th:only-of-type {\n",
       "        vertical-align: middle;\n",
       "    }\n",
       "\n",
       "    .dataframe tbody tr th {\n",
       "        vertical-align: top;\n",
       "    }\n",
       "\n",
       "    .dataframe thead th {\n",
       "        text-align: right;\n",
       "    }\n",
       "</style>\n",
       "<table border=\"1\" class=\"dataframe\">\n",
       "  <thead>\n",
       "    <tr style=\"text-align: right;\">\n",
       "      <th></th>\n",
       "      <th>Post ID</th>\n",
       "      <th>Score</th>\n",
       "      <th>Title</th>\n",
       "      <th>Body</th>\n",
       "      <th>Sentiment Analysis Result</th>\n",
       "    </tr>\n",
       "  </thead>\n",
       "  <tbody>\n",
       "    <tr>\n",
       "      <th>0</th>\n",
       "      <td>12cjf5q</td>\n",
       "      <td>296</td>\n",
       "      <td>I flew Norse into JFK and they let us off the ...</td>\n",
       "      <td>We got off at terminal 7 and instead of going ...</td>\n",
       "      <td>negative</td>\n",
       "    </tr>\n",
       "    <tr>\n",
       "      <th>1</th>\n",
       "      <td>133bh0h</td>\n",
       "      <td>157</td>\n",
       "      <td>Frontier Baggage Scam</td>\n",
       "      <td>Literally saw something I have never seen in a...</td>\n",
       "      <td>negative</td>\n",
       "    </tr>\n",
       "    <tr>\n",
       "      <th>2</th>\n",
       "      <td>10bx7c4</td>\n",
       "      <td>139</td>\n",
       "      <td>Small Claims Court is Great for Air Travel Dis...</td>\n",
       "      <td>Hi everyone, recently I flew Turkish to Ethiop...</td>\n",
       "      <td>negative</td>\n",
       "    </tr>\n",
       "    <tr>\n",
       "      <th>3</th>\n",
       "      <td>f0qq9o</td>\n",
       "      <td>116</td>\n",
       "      <td>Just Had an Older Woman Try to Take My Seat</td>\n",
       "      <td>In India on Airline Indigo. I see a middle-age...</td>\n",
       "      <td>negative</td>\n",
       "    </tr>\n",
       "    <tr>\n",
       "      <th>4</th>\n",
       "      <td>buwy6x</td>\n",
       "      <td>108</td>\n",
       "      <td>What's your best not-a-tip when flying?</td>\n",
       "      <td>I'm mostly a lurker here but it seems we get a...</td>\n",
       "      <td>neutral</td>\n",
       "    </tr>\n",
       "  </tbody>\n",
       "</table>\n",
       "</div>"
      ],
      "text/plain": [
       "   Post ID  Score                                              Title  \\\n",
       "0  12cjf5q    296  I flew Norse into JFK and they let us off the ...   \n",
       "1  133bh0h    157                              Frontier Baggage Scam   \n",
       "2  10bx7c4    139  Small Claims Court is Great for Air Travel Dis...   \n",
       "3   f0qq9o    116        Just Had an Older Woman Try to Take My Seat   \n",
       "4   buwy6x    108            What's your best not-a-tip when flying?   \n",
       "\n",
       "                                                Body Sentiment Analysis Result  \n",
       "0  We got off at terminal 7 and instead of going ...                  negative  \n",
       "1  Literally saw something I have never seen in a...                  negative  \n",
       "2  Hi everyone, recently I flew Turkish to Ethiop...                  negative  \n",
       "3  In India on Airline Indigo. I see a middle-age...                  negative  \n",
       "4  I'm mostly a lurker here but it seems we get a...                   neutral  "
      ]
     },
     "execution_count": 27,
     "metadata": {},
     "output_type": "execute_result"
    }
   ],
   "source": [
    "#check the head of the data\n",
    "airlines.head()"
   ]
  },
  {
   "cell_type": "code",
   "execution_count": 28,
   "metadata": {},
   "outputs": [
    {
     "data": {
      "text/plain": [
       "neutral     53\n",
       "negative    42\n",
       "positive     5\n",
       "Name: Sentiment Analysis Result, dtype: int64"
      ]
     },
     "execution_count": 28,
     "metadata": {},
     "output_type": "execute_result"
    }
   ],
   "source": [
    "#totalling the sentiment analysis results\n",
    "sent_summary = airlines['Sentiment Analysis Result'].value_counts()\n",
    "sent_summary"
   ]
  },
  {
   "cell_type": "code",
   "execution_count": 29,
   "metadata": {},
   "outputs": [
    {
     "data": {
      "image/png": "[encoded data removed]",
      "text/plain": [
       "<Figure size 640x480 with 1 Axes>"
      ]
     },
     "metadata": {},
     "output_type": "display_data"
    }
   ],
   "source": [
    "#compiling the results into a pie chart\n",
    "colors = ['brown', 'slategray', 'green']\n",
    "ax = sent_summary.plot(kind='pie', y='Score',autopct='%1.0f%%', \n",
    "                       colors = colors, ylabel='', labeldistance=None)\n",
    "ax.set_title('Sentiment Analysis Result')\n",
    "ax.legend(bbox_to_anchor=(1, 1.02), loc='upper left')\n",
    "plt.show()"
   ]
  },
  {
   "attachments": {},
   "cell_type": "markdown",
   "metadata": {},
   "source": [
    "## Performing LDA"
   ]
  },
  {
   "cell_type": "code",
   "execution_count": 30,
   "metadata": {},
   "outputs": [
    {
     "name": "stderr",
     "output_type": "stream",
     "text": [
      "/usr/local/lib/python3.11/site-packages/sklearn/feature_extraction/text.py:528: UserWarning: The parameter 'token_pattern' will not be used since 'tokenizer' is not None'\n",
      "  warnings.warn(\n"
     ]
    }
   ],
   "source": [
    "# Initialize regex tokenizer\n",
    "tokenizer = RegexpTokenizer(r'\\w+')\n",
    "\n",
    "# Vectorize document using TF-IDF\n",
    "tfidf = TfidfVectorizer(lowercase=True,\n",
    "                        stop_words='english',\n",
    "                        ngram_range = (1,1),\n",
    "                        tokenizer = tokenizer.tokenize)\n",
    "\n",
    "# Changing series to list and replacing NaN with empty strings\n",
    "air_list = airlines['Body'].fillna('').to_list()\n",
    "\n",
    "# Fit and Transform the documents\n",
    "train_data = tfidf.fit_transform(air_list) "
   ]
  },
  {
   "cell_type": "code",
   "execution_count": 31,
   "metadata": {},
   "outputs": [],
   "source": [
    "# Define the number of topics or components\n",
    "num_components=7\n",
    "\n",
    "# Create LDA object\n",
    "model=LatentDirichletAllocation(n_components=num_components)\n",
    "\n",
    "# Fit and Transform SVD model on data\n",
    "lda_matrix = model.fit_transform(train_data)\n",
    "\n",
    "# Get Components \n",
    "lda_components=model.components_"
   ]
  },
  {
   "cell_type": "code",
   "execution_count": 32,
   "metadata": {},
   "outputs": [
    {
     "name": "stdout",
     "output_type": "stream",
     "text": [
      "Topic 0:  ['like', 'canada', 'dubai', 'pass', 'jeddah', 'test', 'fees']\n",
      "Topic 1:  ['baggage', 'aa', 'going', 'kids', 'customs', 'icelandair', '3']\n",
      "Topic 2:  ['credit', 'norse', 'good', 'baggage', 'row', 'taxes', 'loud']\n",
      "Topic 3:  ['turkish', 'gt', 'card', 'visa', 'note', 'member', 'klm']\n",
      "Topic 4:  ['lhr', 'edreams', 'klm', 'voucher', 'went', 'jetstar', 'mobility']\n",
      "Topic 5:  ['prague', 'july', 'flights', 'level', 'sign', 'bus', 'https']\n",
      "Topic 6:  ['flight', 't', 's', 'told', 'ticket', 'gate', 'seat']\n"
     ]
    }
   ],
   "source": [
    "# Print the topics with their terms\n",
    "feature_names = tfidf.get_feature_names_out()\n",
    "\n",
    "for index, component in enumerate(lda_components):\n",
    "    zipped = zip(feature_names, component)\n",
    "    top_terms_key = sorted(zipped, key=lambda t: t[1], reverse=True)[:7]\n",
    "    top_terms_list = list(dict(top_terms_key).keys())\n",
    "    print(\"Topic \" + str(index) + \": \", top_terms_list)"
   ]
  },
  {
   "cell_type": "code",
   "execution_count": null,
   "metadata": {},
   "outputs": [],
   "source": []
  },
  {
   "cell_type": "code",
   "execution_count": null,
   "metadata": {},
   "outputs": [],
   "source": []
  }
 ],
 "metadata": {
  "kernelspec": {
   "display_name": "Python 3",
   "language": "python",
   "name": "python3"
  },
  "language_info": {
   "codemirror_mode": {
    "name": "ipython",
    "version": 3
   },
   "file_extension": ".py",
   "mimetype": "text/x-python",
   "name": "python",
   "nbconvert_exporter": "python",
   "pygments_lexer": "ipython3",
   "version": "3.11.2"
  },
  "orig_nbformat": 4
 },
 "nbformat": 4,
 "nbformat_minor": 2
}
